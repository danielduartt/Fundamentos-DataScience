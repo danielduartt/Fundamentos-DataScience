{
  "nbformat": 4,
  "nbformat_minor": 0,
  "metadata": {
    "colab": {
      "provenance": [],
      "authorship_tag": "ABX9TyPPm+fh1INrZAwzJWJb9FEu",
      "include_colab_link": true
    },
    "kernelspec": {
      "name": "python3",
      "display_name": "Python 3"
    },
    "language_info": {
      "name": "python"
    }
  },
  "cells": [
    {
      "cell_type": "markdown",
      "metadata": {
        "id": "view-in-github",
        "colab_type": "text"
      },
      "source": [
        "<a href=\"https://colab.research.google.com/github/danielduartt/Fundamentos-DataScience/blob/main/1_Series.ipynb\" target=\"_parent\"><img src=\"https://colab.research.google.com/assets/colab-badge.svg\" alt=\"Open In Colab\"/></a>"
      ]
    },
    {
      "cell_type": "code",
      "execution_count": 2,
      "metadata": {
        "id": "ubnXHVkKB_Lz"
      },
      "outputs": [],
      "source": [
        "#BIBLIOTECAS\n",
        "import pandas as pd\n",
        "import numpy as np"
      ]
    },
    {
      "cell_type": "markdown",
      "source": [
        "#_Construindo Series:_\n"
      ],
      "metadata": {
        "id": "mML2H3sDD0P3"
      }
    },
    {
      "cell_type": "code",
      "source": [
        "labels = 'a b c'.split()\n",
        "my_list = [10,20,30]\n",
        "arr = np.array([10,20,30])\n",
        "d = {labels[0] : 10, labels[1] : 20, labels[2]: 30}"
      ],
      "metadata": {
        "id": "xWba20hDChC3"
      },
      "execution_count": 8,
      "outputs": []
    },
    {
      "cell_type": "code",
      "source": [
        "pd.Series(labels)\n",
        "#labels é o índice"
      ],
      "metadata": {
        "colab": {
          "base_uri": "https://localhost:8080/"
        },
        "id": "dWftNXItCunE",
        "outputId": "4c480c5e-92af-40f5-da3b-56989c88f205"
      },
      "execution_count": 10,
      "outputs": [
        {
          "output_type": "execute_result",
          "data": {
            "text/plain": [
              "0    a\n",
              "1    b\n",
              "2    c\n",
              "dtype: object"
            ]
          },
          "metadata": {},
          "execution_count": 10
        }
      ]
    },
    {
      "cell_type": "code",
      "source": [
        "pd.Series(data = labels, index = my_list)\n",
        "#labels os indíces e my_list o index"
      ],
      "metadata": {
        "colab": {
          "base_uri": "https://localhost:8080/"
        },
        "id": "1CWBBl2QDUzY",
        "outputId": "d1b5525b-7e1e-46d0-8a9d-ae15bd3ebf42"
      },
      "execution_count": 11,
      "outputs": [
        {
          "output_type": "execute_result",
          "data": {
            "text/plain": [
              "10    a\n",
              "20    b\n",
              "30    c\n",
              "dtype: object"
            ]
          },
          "metadata": {},
          "execution_count": 11
        }
      ]
    },
    {
      "cell_type": "code",
      "source": [
        "pd.Series(labels, my_list) # posso fazer assim tbm"
      ],
      "metadata": {
        "colab": {
          "base_uri": "https://localhost:8080/"
        },
        "id": "i-zWmzqODi7y",
        "outputId": "d657e5d4-62d8-4ec2-bd51-bc99ac993e06"
      },
      "execution_count": 12,
      "outputs": [
        {
          "output_type": "execute_result",
          "data": {
            "text/plain": [
              "10    a\n",
              "20    b\n",
              "30    c\n",
              "dtype: object"
            ]
          },
          "metadata": {},
          "execution_count": 12
        }
      ]
    },
    {
      "cell_type": "code",
      "source": [
        "#Posso passar um dicionário\n",
        "pd.Series(d)"
      ],
      "metadata": {
        "colab": {
          "base_uri": "https://localhost:8080/"
        },
        "id": "XEQvJnVwDuLk",
        "outputId": "6b9bea5b-2e21-4e17-985a-1d37c89ddc98"
      },
      "execution_count": 14,
      "outputs": [
        {
          "output_type": "execute_result",
          "data": {
            "text/plain": [
              "a    10\n",
              "b    20\n",
              "c    30\n",
              "dtype: int64"
            ]
          },
          "metadata": {},
          "execution_count": 14
        }
      ]
    },
    {
      "cell_type": "markdown",
      "source": [
        "#_Salvando a Series:_"
      ],
      "metadata": {
        "id": "ncNM0wKTEHfm"
      }
    },
    {
      "cell_type": "code",
      "source": [
        "ser1 = pd.Series([1,2,3,4], index = 'EUA Alemanha USSR Japão'.split())\n",
        "ser1\n",
        "# O index é um seletor que ajudar a manipular dados"
      ],
      "metadata": {
        "colab": {
          "base_uri": "https://localhost:8080/"
        },
        "id": "RwKgmFxlEK0S",
        "outputId": "694e2a09-d779-476d-cce7-e51b9c09f60b"
      },
      "execution_count": 16,
      "outputs": [
        {
          "output_type": "execute_result",
          "data": {
            "text/plain": [
              "EUA         1\n",
              "Alemanha    2\n",
              "USSR        3\n",
              "Japão       4\n",
              "dtype: int64"
            ]
          },
          "metadata": {},
          "execution_count": 16
        }
      ]
    },
    {
      "cell_type": "code",
      "source": [
        "ser2 = pd.Series([1,2,3,4], index = 'EUA Alemanha Italia Japão'.split())"
      ],
      "metadata": {
        "id": "AcguwK9REULb"
      },
      "execution_count": null,
      "outputs": []
    },
    {
      "cell_type": "markdown",
      "source": [
        "#_Selecionando Dados de uma Serie:_\n"
      ],
      "metadata": {
        "id": "R_boa5RcFyKH"
      }
    },
    {
      "cell_type": "code",
      "source": [
        "#Adicionando por index:\n",
        "ser1[[\"Alemanha\", \"EUA\", \"Japão\"]]"
      ],
      "metadata": {
        "colab": {
          "base_uri": "https://localhost:8080/"
        },
        "id": "uh-rU-DeGAWO",
        "outputId": "4edc7ed8-733c-43d5-c7ff-23f9b05fb75a"
      },
      "execution_count": 25,
      "outputs": [
        {
          "output_type": "execute_result",
          "data": {
            "text/plain": [
              "Alemanha    2\n",
              "EUA         1\n",
              "Japão       4\n",
              "dtype: int64"
            ]
          },
          "metadata": {},
          "execution_count": 25
        }
      ]
    },
    {
      "cell_type": "code",
      "source": [
        "ser1[\"EUA\":\"USSR\"] #Outra forma"
      ],
      "metadata": {
        "colab": {
          "base_uri": "https://localhost:8080/"
        },
        "id": "bcvYd7wJHoAO",
        "outputId": "8dbe3728-7c00-438e-fcc6-ade7b8116c6c"
      },
      "execution_count": 28,
      "outputs": [
        {
          "output_type": "execute_result",
          "data": {
            "text/plain": [
              "EUA         1\n",
              "Alemanha    2\n",
              "USSR        3\n",
              "dtype: int64"
            ]
          },
          "metadata": {},
          "execution_count": 28
        }
      ]
    },
    {
      "cell_type": "code",
      "source": [
        "ser1[1]"
      ],
      "metadata": {
        "colab": {
          "base_uri": "https://localhost:8080/"
        },
        "id": "0Srfq3KAGDkE",
        "outputId": "da460ee2-79cd-41b8-aa4b-44c797b30be6"
      },
      "execution_count": 22,
      "outputs": [
        {
          "output_type": "execute_result",
          "data": {
            "text/plain": [
              "2"
            ]
          },
          "metadata": {},
          "execution_count": 22
        }
      ]
    },
    {
      "cell_type": "code",
      "source": [
        "ser1[\"Alemanha\"]"
      ],
      "metadata": {
        "colab": {
          "base_uri": "https://localhost:8080/"
        },
        "id": "uKYNCdVtGidm",
        "outputId": "6e5ecd62-c83d-487b-d0ea-3022cf0830b5"
      },
      "execution_count": 23,
      "outputs": [
        {
          "output_type": "execute_result",
          "data": {
            "text/plain": [
              "2"
            ]
          },
          "metadata": {},
          "execution_count": 23
        }
      ]
    },
    {
      "cell_type": "markdown",
      "source": [
        "#_Algumas Funções:_"
      ],
      "metadata": {
        "id": "AI-fxon-HFF7"
      }
    },
    {
      "cell_type": "code",
      "source": [
        "steps = pd.Series([42153,5241,56974,12365]) #Crio minha Serie\n",
        "print(steps.values) # retorna os valores\n",
        "print(\"------------------------------------------\")\n",
        "print(steps.index) # retorna os indíces\n",
        "print(\"------------------------------------------\")\n",
        "#obs: o steps.values mostra que os valores são agrupados em um array\n",
        "#logo pode-se trabalhar com o numpy\n",
        "#Ex:\n",
        "n = steps.values\n",
        "print(type(n))\n",
        "print()\n",
        "print(f\"mínimo: {steps.min()}\")\n",
        "print(f\"máximo: {steps.max()}\")\n",
        "print(f\"média: {steps.mean()}\")\n",
        "print(\"por ai vai...\")\n",
        "print('~'*21)\n",
        "print(steps.shape)\n",
        "print('~'*21)\n",
        "print(steps.describe())"
      ],
      "metadata": {
        "colab": {
          "base_uri": "https://localhost:8080/"
        },
        "id": "GJVJWj-dHIBT",
        "outputId": "62b8d774-2f24-42a5-80e8-f7557e4cf7c5"
      },
      "execution_count": 24,
      "outputs": [
        {
          "output_type": "stream",
          "name": "stdout",
          "text": [
            "[42153  5241 56974 12365]\n",
            "------------------------------------------\n",
            "RangeIndex(start=0, stop=4, step=1)\n",
            "------------------------------------------\n",
            "<class 'numpy.ndarray'>\n",
            "\n",
            "mínimo: 5241\n",
            "máximo: 56974\n",
            "média: 29183.25\n",
            "por ai vai...\n",
            "~~~~~~~~~~~~~~~~~~~~~\n",
            "(4,)\n",
            "~~~~~~~~~~~~~~~~~~~~~\n",
            "count        4.000000\n",
            "mean     29183.250000\n",
            "std      24471.923155\n",
            "min       5241.000000\n",
            "25%      10584.000000\n",
            "50%      27259.000000\n",
            "75%      45858.250000\n",
            "max      56974.000000\n",
            "dtype: float64\n"
          ]
        }
      ]
    },
    {
      "cell_type": "markdown",
      "source": [
        "#_Operações:_"
      ],
      "metadata": {
        "id": "SGfImckdH_ng"
      }
    },
    {
      "cell_type": "code",
      "source": [
        "s1 = pd.Series(data = np.random.randint(1, 100, 3), index = 'Facebook Instagram Youtube'.strip().split() )\n",
        "print(s1)"
      ],
      "metadata": {
        "colab": {
          "base_uri": "https://localhost:8080/"
        },
        "id": "zn4ySzoeIB5-",
        "outputId": "5ebfb368-6fbf-43b3-fdda-5603ecbe7989"
      },
      "execution_count": 29,
      "outputs": [
        {
          "output_type": "stream",
          "name": "stdout",
          "text": [
            "Facebook     54\n",
            "Instagram    78\n",
            "Youtube      86\n",
            "dtype: int64\n"
          ]
        }
      ]
    },
    {
      "cell_type": "code",
      "source": [
        "s2 = pd.Series(data = np.random.randint(1, 100, 4), index = 'Zoom Instagram Twitch Youtube'.strip().split())\n",
        "print(s2)"
      ],
      "metadata": {
        "colab": {
          "base_uri": "https://localhost:8080/"
        },
        "id": "dtSHxGcnIxuJ",
        "outputId": "a825dd94-a55e-4947-9525-a3c7d161727d"
      },
      "execution_count": 31,
      "outputs": [
        {
          "output_type": "stream",
          "name": "stdout",
          "text": [
            "Zoom         81\n",
            "Instagram    32\n",
            "Twitch       20\n",
            "Youtube      86\n",
            "dtype: int64\n"
          ]
        }
      ]
    },
    {
      "cell_type": "code",
      "source": [
        "s1 + s2  #Soma apenas o valores que possuem o mesmo index\n",
        "#Logo operações são orientadas por index"
      ],
      "metadata": {
        "colab": {
          "base_uri": "https://localhost:8080/"
        },
        "id": "rGDuA3yCIyE7",
        "outputId": "dd14a24e-3f01-4120-d7c7-8f9a3a315b1f"
      },
      "execution_count": 33,
      "outputs": [
        {
          "output_type": "execute_result",
          "data": {
            "text/plain": [
              "Facebook       NaN\n",
              "Instagram    110.0\n",
              "Twitch         NaN\n",
              "Youtube      172.0\n",
              "Zoom           NaN\n",
              "dtype: float64"
            ]
          },
          "metadata": {},
          "execution_count": 33
        }
      ]
    },
    {
      "cell_type": "markdown",
      "source": [
        "#_Máscara:_"
      ],
      "metadata": {
        "id": "W97Nop6oJLt_"
      }
    },
    {
      "cell_type": "code",
      "source": [
        "letras = 'A B C D E F G H I J'\n",
        "series2 = pd.Series(np.random.randint(1, 5, 10), index = letras.split())\n",
        "print(series2)"
      ],
      "metadata": {
        "colab": {
          "base_uri": "https://localhost:8080/"
        },
        "id": "CMArwCwaJNWK",
        "outputId": "37bea241-89ec-4823-f64b-5b7dc26886c5"
      },
      "execution_count": 34,
      "outputs": [
        {
          "output_type": "stream",
          "name": "stdout",
          "text": [
            "A    1\n",
            "B    1\n",
            "C    4\n",
            "D    4\n",
            "E    1\n",
            "F    1\n",
            "G    3\n",
            "H    3\n",
            "I    2\n",
            "J    3\n",
            "dtype: int64\n"
          ]
        }
      ]
    },
    {
      "cell_type": "code",
      "source": [
        "series2[series2 > 2] #retorno todos os valores maiores que 2"
      ],
      "metadata": {
        "colab": {
          "base_uri": "https://localhost:8080/"
        },
        "id": "XghFUiUYJT6Y",
        "outputId": "0307929e-8589-40a2-b589-9df65b692860"
      },
      "execution_count": 37,
      "outputs": [
        {
          "output_type": "execute_result",
          "data": {
            "text/plain": [
              "C    4\n",
              "D    4\n",
              "G    3\n",
              "H    3\n",
              "J    3\n",
              "dtype: int64"
            ]
          },
          "metadata": {},
          "execution_count": 37
        }
      ]
    },
    {
      "cell_type": "code",
      "source": [
        "series2[series2 > 2].index #retorno os indices dos valores maiores que 2"
      ],
      "metadata": {
        "colab": {
          "base_uri": "https://localhost:8080/"
        },
        "id": "Cfh5Tq7WJVpo",
        "outputId": "dfd172e8-4380-4d67-c4d9-facf30b52fff"
      },
      "execution_count": 38,
      "outputs": [
        {
          "output_type": "execute_result",
          "data": {
            "text/plain": [
              "Index(['C', 'D', 'G', 'H', 'J'], dtype='object')"
            ]
          },
          "metadata": {},
          "execution_count": 38
        }
      ]
    }
  ]
}